{
 "cells": [
  {
   "cell_type": "markdown",
   "metadata": {
    "slideshow": {
     "slide_type": "slide"
    }
   },
   "source": [
    "# Iterators, Generators and You "
   ]
  },
  {
   "cell_type": "code",
   "execution_count": 1,
   "metadata": {
    "slideshow": {
     "slide_type": "subslide"
    }
   },
   "outputs": [
    {
     "name": "stdout",
     "output_type": "stream",
     "text": [
      "Hello, PyCon Delhi\n"
     ]
    }
   ],
   "source": [
    "print('Hello, PyCon Delhi')"
   ]
  },
  {
   "cell_type": "markdown",
   "metadata": {
    "slideshow": {
     "slide_type": "slide"
    }
   },
   "source": [
    "## $ whoami"
   ]
  },
  {
   "cell_type": "code",
   "execution_count": 2,
   "metadata": {
    "slideshow": {
     "slide_type": "fragment"
    }
   },
   "outputs": [
    {
     "name": "stdout",
     "output_type": "stream",
     "text": [
      "kshitij10496\n"
     ]
    }
   ],
   "source": [
    "%%bash\n",
    "whoami"
   ]
  },
  {
   "cell_type": "markdown",
   "metadata": {
    "slideshow": {
     "slide_type": "slide"
    }
   },
   "source": [
    "# The `for` loop"
   ]
  },
  {
   "cell_type": "code",
   "execution_count": 3,
   "metadata": {
    "slideshow": {
     "slide_type": "subslide"
    }
   },
   "outputs": [
    {
     "name": "stdout",
     "output_type": "stream",
     "text": [
      "1\n",
      "2\n",
      "3\n",
      "4\n",
      "5\n"
     ]
    }
   ],
   "source": [
    "for number in range(1, 6):\n",
    "    print(number)"
   ]
  },
  {
   "cell_type": "code",
   "execution_count": 4,
   "metadata": {
    "slideshow": {
     "slide_type": "fragment"
    }
   },
   "outputs": [
    {
     "name": "stdout",
     "output_type": "stream",
     "text": [
      "# The equivalent code in C\n",
      "int i;\n",
      "for(i=1; i<6; i++) {\n",
      "    printf(\"%d\", i);\n",
      "}\n",
      "\n"
     ]
    }
   ],
   "source": [
    "c_code = \"\"\"# The equivalent code in C\n",
    "int i;\n",
    "for(i=1; i<6; i++) {\n",
    "    printf(\"%d\", i);\n",
    "}\n",
    "\"\"\"\n",
    "print(c_code)"
   ]
  },
  {
   "cell_type": "markdown",
   "metadata": {
    "slideshow": {
     "slide_type": "slide"
    }
   },
   "source": [
    "## Other Features\n",
    "\n",
    "- Tuple unpacking\n",
    "- `min`, `max` built-ins\n",
    "- List comprehensions"
   ]
  },
  {
   "cell_type": "code",
   "execution_count": 20,
   "metadata": {
    "slideshow": {
     "slide_type": "subslide"
    }
   },
   "outputs": [
    {
     "name": "stdout",
     "output_type": "stream",
     "text": [
      "Name: Kshitij Saraogi\n",
      "Age: 21\n",
      "Hobbies:\n",
      "\t1. Writing software in Python\n",
      "\t2. Reads lot of books\n",
      "\t3. Plays Football and FIFA\n"
     ]
    }
   ],
   "source": [
    "record = ('Kshitij Saraogi', 21,\n",
    "          (\n",
    "           'Writing software in Python',\n",
    "           'Reads lot of books',\n",
    "           'Plays Football and FIFA'\n",
    "          )\n",
    "         )\n",
    "name, age, hobbies = record # tuple unpacking\n",
    "print('Name:', name)\n",
    "print('Age:', age)\n",
    "print('Hobbies:')\n",
    "for index, hobby in enumerate(hobbies, start=1):\n",
    "    print('\\t{}. {}'.format(index, hobby))"
   ]
  },
  {
   "cell_type": "code",
   "execution_count": 21,
   "metadata": {
    "slideshow": {
     "slide_type": "subslide"
    }
   },
   "outputs": [
    {
     "name": "stdout",
     "output_type": "stream",
     "text": [
      "Data Dump: [8, 4, 7, 1, 0, 0, 3, 2, 9, 2]\n",
      "Minimum number in the dump = 0\n",
      "Maximum number in the dump = 9\n",
      "Sum of all the numbers in the dump = 36\n"
     ]
    }
   ],
   "source": [
    "import random\n",
    "\n",
    "data_dump = [random.randint(0, 9) for i in range(10)] # List Comprehension\n",
    "print('Data Dump:', data_dump)\n",
    "\n",
    "# Built-in functions that seem to work magically\n",
    "print('Minimum number in the dump =', min(data_dump))\n",
    "print('Maximum number in the dump =', max(data_dump))\n",
    "print('Sum of all the numbers in the dump =', sum(data_dump))"
   ]
  },
  {
   "cell_type": "markdown",
   "metadata": {
    "slideshow": {
     "slide_type": "slide"
    }
   },
   "source": [
    "## Made Me Wonder ...\n",
    "\n",
    "- Powerful abstraction as well as concise syntax\n",
    "- What makes this loop construct work like magic?"
   ]
  },
  {
   "cell_type": "markdown",
   "metadata": {
    "slideshow": {
     "slide_type": "slide"
    }
   },
   "source": [
    "## The Iterator Protocol"
   ]
  },
  {
   "cell_type": "markdown",
   "metadata": {
    "slideshow": {
     "slide_type": "fragment"
    }
   },
   "source": [
    "- Gives you the power to use your objects in `for` loop\n",
    "- And much more ..."
   ]
  },
  {
   "cell_type": "markdown",
   "metadata": {
    "slideshow": {
     "slide_type": "slide"
    }
   },
   "source": [
    "# The Plan"
   ]
  },
  {
   "cell_type": "markdown",
   "metadata": {
    "slideshow": {
     "slide_type": "fragment"
    }
   },
   "source": [
    "1. Terminology\n",
    "2. The Protocol\n",
    "3. Sample Implementation"
   ]
  },
  {
   "cell_type": "markdown",
   "metadata": {
    "slideshow": {
     "slide_type": "slide"
    }
   },
   "source": [
    "## 1. Terminology\n",
    "\n",
    "- Iterator\n",
    "- Iterable"
   ]
  },
  {
   "cell_type": "markdown",
   "metadata": {
    "slideshow": {
     "slide_type": "subslide"
    }
   },
   "source": [
    "## Iterator"
   ]
  },
  {
   "cell_type": "markdown",
   "metadata": {
    "slideshow": {
     "slide_type": "subslide"
    }
   },
   "source": [
    "## Iterable\n"
   ]
  },
  {
   "cell_type": "markdown",
   "metadata": {
    "slideshow": {
     "slide_type": "subslide"
    }
   },
   "source": [
    "## Learnings"
   ]
  },
  {
   "cell_type": "markdown",
   "metadata": {
    "slideshow": {
     "slide_type": "slide"
    }
   },
   "source": [
    "## 2. The Protocol"
   ]
  },
  {
   "cell_type": "markdown",
   "metadata": {
    "slideshow": {
     "slide_type": "slide"
    }
   },
   "source": [
    "## 3. Sample Implementation\n",
    "\n",
    "\"Enough talk, show me code.\""
   ]
  },
  {
   "cell_type": "code",
   "execution_count": null,
   "metadata": {
    "collapsed": true
   },
   "outputs": [],
   "source": [
    "## Implement a collection data stucture with the Iterator protocol.\n",
    "## Show examples of what features does this newly constructed class supports such as unpacking, built-ins"
   ]
  },
  {
   "cell_type": "markdown",
   "metadata": {
    "slideshow": {
     "slide_type": "slide"
    }
   },
   "source": [
    "## Generatos\n",
    "\n",
    "- Need for lazy evaluation\n",
    "- **All generators are iterators**\n",
    "\n",
    "Two ways to define a generator in Python:\n",
    "- generator function\n",
    "- tuple comprehension"
   ]
  },
  {
   "cell_type": "code",
   "execution_count": 22,
   "metadata": {
    "slideshow": {
     "slide_type": "subslide"
    }
   },
   "outputs": [
    {
     "name": "stdout",
     "output_type": "stream",
     "text": [
      "squares_10 is  <generator object generator_squares at 0x10514ec50>\n",
      "0 0\n",
      "1 1\n",
      "2 4\n",
      "3 9\n",
      "4 16\n",
      "5 25\n",
      "6 36\n",
      "7 49\n",
      "8 64\n",
      "9 81\n",
      "0\n"
     ]
    }
   ],
   "source": [
    "## GENERATOR FUNCTION\n",
    "## Any function with a `yield` statement is a generator function.\n",
    "\n",
    "def generator_squares(n):\n",
    "    '''Generates squares of first n whole numbers.'''\n",
    "    for i in range(n):\n",
    "        yield i*i\n",
    "        \n",
    "squares_10 = generator_squares(10) # generator object\n",
    "print('squares_10 is ', squares_10)\n",
    "\n",
    "# Iterating over a generator just like one would over an iterator\n",
    "for i, square in enumerate(squares_10):\n",
    "    print(i, square)\n",
    "\n",
    "# Alike iterators, generator consumed over an iteration\n",
    "for square in squares_10:\n",
    "    print(square)\n",
    "\n",
    "squares_10 = generator_squares(10)\n",
    "\n",
    "print(next(squares_10))"
   ]
  },
  {
   "cell_type": "code",
   "execution_count": 18,
   "metadata": {
    "slideshow": {
     "slide_type": "subslide"
    }
   },
   "outputs": [
    {
     "name": "stdout",
     "output_type": "stream",
     "text": [
      "squares_10 is  <generator object <genexpr> at 0x10514ef10>\n",
      "0 0\n",
      "1 1\n",
      "2 4\n",
      "3 9\n",
      "4 16\n",
      "5 25\n",
      "6 36\n",
      "7 49\n",
      "8 64\n",
      "9 81\n",
      "0\n"
     ]
    }
   ],
   "source": [
    "## TUPLE COMPREHENSION(AKA GENERATOR EXPRESSION)\n",
    "\n",
    "squares_10 = (i*i for i in range(10))\n",
    "print('squares_10 is ', squares_10)\n",
    "\n",
    "# Iterating over a generator just like one would over an iterator\n",
    "for i, square in enumerate(squares_10):\n",
    "    print(i, square)\n",
    "\n",
    "# Alike iterators, generator consumed over an iteration\n",
    "for square in squares_10:\n",
    "    print(square)\n",
    "\n",
    "squares_10 = (i*i for i in range(10))\n",
    "print(next(squares_10))"
   ]
  },
  {
   "cell_type": "markdown",
   "metadata": {
    "slideshow": {
     "slide_type": "slide"
    }
   },
   "source": [
    "## How are Generators relevant to the Iterator Protocol?\n",
    "\n",
    "They can make implementing the Iterator Protocol simpler.  \n",
    "Since, they return an `iterator` object, they abstract away the Iterator interface."
   ]
  },
  {
   "cell_type": "code",
   "execution_count": 19,
   "metadata": {
    "collapsed": true,
    "slideshow": {
     "slide_type": "subslide"
    }
   },
   "outputs": [],
   "source": [
    "## Modify the Sample Implementation using Generators"
   ]
  },
  {
   "cell_type": "markdown",
   "metadata": {
    "slideshow": {
     "slide_type": "slide"
    }
   },
   "source": [
    "## Alternate ways to implement the Protocol:\n",
    "\n",
    "1. Returning iterator of attributes\n",
    "2. The Iterator and Iterable interface\n",
    "3. Inheriting from Abstract Base Classes\n",
    "4. Substituing the Iterator interface using Generators\n",
    "5. The Sequence Protocol"
   ]
  },
  {
   "cell_type": "markdown",
   "metadata": {
    "slideshow": {
     "slide_type": "slide"
    }
   },
   "source": [
    "# Takeaways"
   ]
  },
  {
   "cell_type": "markdown",
   "metadata": {
    "slideshow": {
     "slide_type": "fragment"
    }
   },
   "source": [
    "1. Leverage the power of the Iterator Protocol in your code whenever and wherever possible.\n",
    "2. Python groks iteration.\n",
    "3. Don't be afraid of writing generators.\n",
    "4. Python doesn't support \"Tuple Comprehensions\"; instead they are generator expressions."
   ]
  }
 ],
 "metadata": {
  "celltoolbar": "Slideshow",
  "kernelspec": {
   "display_name": "Python 3",
   "language": "python",
   "name": "python3"
  },
  "language_info": {
   "codemirror_mode": {
    "name": "ipython",
    "version": 3
   },
   "file_extension": ".py",
   "mimetype": "text/x-python",
   "name": "python",
   "nbconvert_exporter": "python",
   "pygments_lexer": "ipython3",
   "version": "3.5.2"
  }
 },
 "nbformat": 4,
 "nbformat_minor": 2
}
